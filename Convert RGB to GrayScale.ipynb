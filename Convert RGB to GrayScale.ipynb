{
 "cells": [
  {
   "cell_type": "code",
   "execution_count": 7,
   "metadata": {},
   "outputs": [
    {
     "name": "stdout",
     "output_type": "stream",
     "text": [
      "Directory already exist, images will be written in same folder\n"
     ]
    }
   ],
   "source": [
    "import cv2\n",
    "\n",
    "import os,glob\n",
    "\n",
    "from os import listdir,makedirs\n",
    "\n",
    "from os.path import isfile,join\n",
    "path = 'C:/Users/Laptop Point/Convert Image Into Grayscale/Validation1/Late_Blight' # Source Folder\n",
    "dstpath = 'C:/Users/Laptop Point/Convert Image Into Grayscale/Validation/Late_Blight' # Destination Folder\n",
    "try:\n",
    "    makedirs(dstpath)\n",
    "except:\n",
    "    print (\"Directory already exist, images will be written in same folder\")\n",
    "# Folder won't used\n",
    "files = [f for f in listdir(path) if isfile(join(path,f))] \n",
    "for image in files:\n",
    "    try:\n",
    "        img = cv2.imread(os.path.join(path,image))\n",
    "        gray = cv2.cvtColor(img,cv2.COLOR_BGR2GRAY)\n",
    "        dstPath = join(dstpath,image)\n",
    "        cv2.imwrite(dstPath,gray)\n",
    "    except:\n",
    "        print (\"{} is not converted\".format(image))\n",
    "for fil in glob.glob(\"*.jpg\"):\n",
    "    try:\n",
    "        image = cv2.imread(fil) \n",
    "        gray_image = cv2.cvtColor(image, cv2.COLOR_BGR2GRAY) # convert to greyscale\n",
    "        cv2.imwrite(os.path.join(dstpath,fil),gray_image)\n",
    "    except:\n",
    "        print('{} is not converted')"
   ]
  },
  {
   "cell_type": "code",
   "execution_count": 8,
   "metadata": {},
   "outputs": [
    {
     "name": "stdout",
     "output_type": "stream",
     "text": [
      "Directory already exist, images will be written in same folder\n"
     ]
    }
   ],
   "source": [
    "import cv2\n",
    "\n",
    "import os,glob\n",
    "\n",
    "from os import listdir,makedirs\n",
    "\n",
    "from os.path import isfile,join\n",
    "path = 'C:/Users/Laptop Point/Convert Image Into Grayscale/Validation1/Healthy' # Source Folder\n",
    "dstpath = 'C:/Users/Laptop Point/Convert Image Into Grayscale/Validation/Healthy' # Destination Folder\n",
    "try:\n",
    "    makedirs(dstpath)\n",
    "except:\n",
    "    print (\"Directory already exist, images will be written in same folder\")\n",
    "# Folder won't used\n",
    "files = [f for f in listdir(path) if isfile(join(path,f))] \n",
    "for image in files:\n",
    "    try:\n",
    "        img = cv2.imread(os.path.join(path,image))\n",
    "        gray = cv2.cvtColor(img,cv2.COLOR_BGR2GRAY)\n",
    "        dstPath = join(dstpath,image)\n",
    "        cv2.imwrite(dstPath,gray)\n",
    "    except:\n",
    "        print (\"{} is not converted\".format(image))\n",
    "for fil in glob.glob(\"*.jpg\"):\n",
    "    try:\n",
    "        image = cv2.imread(fil) \n",
    "        gray_image = cv2.cvtColor(image, cv2.COLOR_BGR2GRAY) # convert to greyscale\n",
    "        cv2.imwrite(os.path.join(dstpath,fil),gray_image)\n",
    "    except:\n",
    "        print('{} is not converted')"
   ]
  },
  {
   "cell_type": "code",
   "execution_count": 9,
   "metadata": {},
   "outputs": [
    {
     "name": "stdout",
     "output_type": "stream",
     "text": [
      "Directory already exist, images will be written in same folder\n",
      "desktop.ini is not converted\n"
     ]
    }
   ],
   "source": [
    "import cv2\n",
    "\n",
    "import os,glob\n",
    "\n",
    "from os import listdir,makedirs\n",
    "\n",
    "from os.path import isfile,join\n",
    "path = 'C:/Users/Laptop Point/Convert Image Into Grayscale/Validation1/Early_Blight' # Source Folder\n",
    "dstpath = 'C:/Users/Laptop Point/Convert Image Into Grayscale/Validation/Early_Blight' # Destination Folder\n",
    "try:\n",
    "    makedirs(dstpath)\n",
    "except:\n",
    "    print (\"Directory already exist, images will be written in same folder\")\n",
    "# Folder won't used\n",
    "files = [f for f in listdir(path) if isfile(join(path,f))] \n",
    "for image in files:\n",
    "    try:\n",
    "        img = cv2.imread(os.path.join(path,image))\n",
    "        gray = cv2.cvtColor(img,cv2.COLOR_BGR2GRAY)\n",
    "        dstPath = join(dstpath,image)\n",
    "        cv2.imwrite(dstPath,gray)\n",
    "    except:\n",
    "        print (\"{} is not converted\".format(image))\n",
    "for fil in glob.glob(\"*.jpg\"):\n",
    "    try:\n",
    "        image = cv2.imread(fil) \n",
    "        gray_image = cv2.cvtColor(image, cv2.COLOR_BGR2GRAY) # convert to greyscale\n",
    "        cv2.imwrite(os.path.join(dstpath,fil),gray_image)\n",
    "    except:\n",
    "        print('{} is not converted')"
   ]
  },
  {
   "cell_type": "code",
   "execution_count": null,
   "metadata": {},
   "outputs": [],
   "source": [
    "import glob\n",
    "import cv2\n",
    "import os\n",
    "import numpy as np\n",
    "from PIL import Image\n",
    "images=[]\n",
    "images=np.array(images)\n",
    "path='C:\\Users\\Laptop Point\\Desktop\\Potato_Dataset_3_Class\\Testing'\n",
    "count=0\n",
    "images = [cv2.imread(file,0) for file in glob.glob(\"C:\\Users\\Laptop Point\\Desktop\\PicGrayScale\\Testing\")]\n",
    "for i in range(len(images)):\n",
    "#    im = Image.fromarray(images[i])\n",
    "#    cv2.imwrite(str(path) + '.jpg', images[count])\n",
    "    cv2.imwrite(os.path.join(path, 'pic.jpg'), images[count])\n",
    "    count+=1"
   ]
  }
 ],
 "metadata": {
  "kernelspec": {
   "display_name": "Python 3",
   "language": "python",
   "name": "python3"
  },
  "language_info": {
   "codemirror_mode": {
    "name": "ipython",
    "version": 3
   },
   "file_extension": ".py",
   "mimetype": "text/x-python",
   "name": "python",
   "nbconvert_exporter": "python",
   "pygments_lexer": "ipython3",
   "version": "3.7.4"
  }
 },
 "nbformat": 4,
 "nbformat_minor": 2
}
